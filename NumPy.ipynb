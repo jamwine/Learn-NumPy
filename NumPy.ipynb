{
 "cells": [
  {
   "cell_type": "markdown",
   "metadata": {},
   "source": [
    "# NumPy for Python in Jupyter Notebook"
   ]
  },
  {
   "cell_type": "code",
   "execution_count": 1,
   "metadata": {},
   "outputs": [],
   "source": [
    "# NumPy (Numerical Python)\n",
    "import numpy as np"
   ]
  },
  {
   "cell_type": "markdown",
   "metadata": {},
   "source": [
    "### Creating an array"
   ]
  },
  {
   "cell_type": "code",
   "execution_count": 2,
   "metadata": {},
   "outputs": [
    {
     "name": "stdout",
     "output_type": "stream",
     "text": [
      "This is a list: [1, 2, 3, 4, 5]\n",
      "\n",
      "Array created from list: [1 2 3 4 5]\n",
      "Class of array: <class 'numpy.ndarray'>\n",
      "Datatype of array: int32\n",
      "\n",
      "Array after Appending elements: [1 2 3 4 5 6 7 8]\n"
     ]
    }
   ],
   "source": [
    "a=[1,2,3,4,5]\n",
    "print(\"This is a list:\",a)\n",
    "\n",
    "b=np.array(a) \n",
    "print(\"\\nArray created from list:\",b)\n",
    "print(\"Class of array:\",type(b)) # not a list\n",
    "print(\"Datatype of array:\",b.dtype) # dtype attribute returns the datatype of elements in array\n",
    "\n",
    "print(\"\\nArray after Appending elements:\",np.append(b,[6,7,8])) # appending elements in the array"
   ]
  },
  {
   "cell_type": "code",
   "execution_count": 3,
   "metadata": {},
   "outputs": [
    {
     "name": "stdout",
     "output_type": "stream",
     "text": [
      "Row vector:[1 2 3]\n",
      "\n",
      "Third element of row vector: 3\n",
      "\n",
      "Column vector:\n",
      "[[1]\n",
      " [2]\n",
      " [3]]\n",
      "\n",
      "All elements of column vector:\n",
      "[[1]\n",
      " [2]\n",
      " [3]]\n"
     ]
    }
   ],
   "source": [
    "# create a one-dimensional array\n",
    "\n",
    "vector_row=np.array([1,2,3])\n",
    "print(f\"Row vector:{vector_row}\")\n",
    "print(f'\\nThird element of row vector: {vector_row[2]}')\n",
    "\n",
    "vector_column=np.array([[1],[2],[3]])\n",
    "print(f\"\\nColumn vector:\\n{vector_column}\")\n",
    "print(f'\\nAll elements of column vector:\\n{vector_column[:]}')"
   ]
  },
  {
   "cell_type": "markdown",
   "metadata": {},
   "source": [
    "### Creating a matrix"
   ]
  },
  {
   "cell_type": "code",
   "execution_count": 4,
   "metadata": {},
   "outputs": [
    {
     "name": "stdout",
     "output_type": "stream",
     "text": [
      "This is a list of lists: [[1, 2, 3], [4, 5, 6], [7, 8, 9]]\n",
      "\n",
      " Two-dimensional array (matrix) created from list:\n",
      " [[1 2 3]\n",
      " [4 5 6]\n",
      " [7 8 9]]\n",
      "\n",
      "Extracting Second Element:  [4 5 6]\n",
      "\n",
      "Extracting a sub-matrix using indexing:\n",
      " [[2 3]\n",
      " [5 6]]\n",
      "\n",
      "Second row, second column: 5\n"
     ]
    }
   ],
   "source": [
    "# create a two-dimensional array\n",
    "\n",
    "c=[[1,2,3],[4,5,6],[7,8,9]]\n",
    "print(\"This is a list of lists:\",c)\n",
    "\n",
    "d=np.array(c)\n",
    "print(\"\\n\",\"Two-dimensional array (matrix) created from list:\\n\",d)\n",
    "\n",
    "print(\"\\nExtracting Second Element: \",d[1])\n",
    "print(\"\\nExtracting a sub-matrix using indexing:\\n\",d[:2,1:]) # rows 0 & 1, columns 1 & 2 \n",
    "print(f'\\nSecond row, second column: {d[1,1]}')"
   ]
  },
  {
   "cell_type": "markdown",
   "metadata": {},
   "source": [
    "###  Generating an array of numbers using arange()"
   ]
  },
  {
   "cell_type": "code",
   "execution_count": 5,
   "metadata": {},
   "outputs": [
    {
     "name": "stdout",
     "output_type": "stream",
     "text": [
      "This is a list [0, 1, 2, 3, 4]  using range()\n",
      "This is an array [0 1 2 3 4]  using arange()\n"
     ]
    }
   ],
   "source": [
    "print(\"This is a list\",list(range(0,5)),\" using range()\")\n",
    "a=np.arange(0,5) # works exactly similar to range()\n",
    "print(\"This is an array\",a,\" using arange()\")"
   ]
  },
  {
   "cell_type": "markdown",
   "metadata": {},
   "source": [
    "### Creating arrays & matrices of zeros, ones & any other number using zeros() and ones()"
   ]
  },
  {
   "cell_type": "code",
   "execution_count": 6,
   "metadata": {},
   "outputs": [
    {
     "name": "stdout",
     "output_type": "stream",
     "text": [
      "One dimensional zeros:  [0. 0. 0. 0. 0.]\n",
      "\n",
      "Two-dimensional ones:(2x3)\n",
      " [[1. 1. 1.]\n",
      " [1. 1. 1.]]\n",
      "\n",
      "Two-dimensional fives: (3x5)\n",
      " [[5. 5. 5. 5. 5.]\n",
      " [5. 5. 5. 5. 5.]\n",
      " [5. 5. 5. 5. 5.]]\n"
     ]
    }
   ],
   "source": [
    "print(\"One dimensional zeros: \",np.zeros(5))\n",
    "\n",
    "print(\"\\nTwo-dimensional ones:(2x3)\\n\",np.ones((2,3))) # (rows x columns)\n",
    "\n",
    "print(\"\\nTwo-dimensional fives: (3x5)\\n\",(5*np.ones((3,5))))"
   ]
  },
  {
   "cell_type": "markdown",
   "metadata": {},
   "source": [
    "### Creating a Compressed Sparse Row (CSR) Matrix"
   ]
  },
  {
   "cell_type": "code",
   "execution_count": 7,
   "metadata": {},
   "outputs": [
    {
     "name": "stdout",
     "output_type": "stream",
     "text": [
      "Matrix:\n",
      "[[0 0]\n",
      " [0 1]\n",
      " [3 0]]\n",
      "\n",
      "Sparse Matrix:\n",
      "  (1, 1)\t1\n",
      "  (2, 0)\t3\n",
      "\n",
      "Matrix:\n",
      "[[0 0 0 0 0 0 0 0 0 0]\n",
      " [0 1 0 0 0 0 0 0 0 0]\n",
      " [3 0 0 0 0 0 0 0 0 0]]\n",
      "\n",
      "Sparse Matrix:\n",
      "  (1, 1)\t1\n",
      "  (2, 0)\t3\n"
     ]
    }
   ],
   "source": [
    "from scipy import sparse\n",
    "\n",
    "matrix=np.array([[0,0],[0,1],[3,0]])\n",
    "matrix_sparse=sparse.csr_matrix(matrix) # Create compressed sparse row (CSR) matrix\n",
    "print(f\"Matrix:\\n{matrix}\")\n",
    "print(f\"\\nSparse Matrix:\\n{matrix_sparse}\") # View sparse matrix\n",
    "\n",
    "matrix_large=np.array([[0,0,0,0,0,0,0,0,0,0],[0,1,0,0,0,0,0,0,0,0],[3,0,0,0,0,0,0,0,0,0]]) # Create larger matrix\n",
    "matrix_large_sparse=sparse.csr_matrix(matrix_large) # Create compressed sparse row (CSR) matrix\n",
    "print(f\"\\nMatrix:\\n{matrix_large}\")\n",
    "print(f\"\\nSparse Matrix:\\n{matrix_large_sparse}\")"
   ]
  },
  {
   "cell_type": "markdown",
   "metadata": {},
   "source": [
    "### Generating linear equally spaced numbers using linspace()"
   ]
  },
  {
   "cell_type": "code",
   "execution_count": 8,
   "metadata": {},
   "outputs": [
    {
     "name": "stdout",
     "output_type": "stream",
     "text": [
      "Linearly spaced numbers: [ 0.  2.  4.  6.  8. 10.]\n",
      "\n",
      "A number line having points from [-5,5]: [-5. -4. -3. -2. -1.  0.  1.  2.  3.  4.  5.]\n"
     ]
    }
   ],
   "source": [
    "print(\"Linearly spaced numbers:\",np.linspace(0,10,6)) # linspace(first number, last number, total elements)\n",
    "\n",
    "print(\"\\nA number line having points from [-5,5]:\",np.linspace(-5,5,11))"
   ]
  },
  {
   "cell_type": "markdown",
   "metadata": {},
   "source": [
    "### Identity matrix using eye()"
   ]
  },
  {
   "cell_type": "code",
   "execution_count": 9,
   "metadata": {},
   "outputs": [
    {
     "name": "stdout",
     "output_type": "stream",
     "text": [
      "An identity matrix is defined using eye():\n",
      " [[1. 0. 0. 0. 0.]\n",
      " [0. 1. 0. 0. 0.]\n",
      " [0. 0. 1. 0. 0.]\n",
      " [0. 0. 0. 1. 0.]\n",
      " [0. 0. 0. 0. 1.]]\n"
     ]
    }
   ],
   "source": [
    "print(\"An identity matrix is defined using eye():\\n\",np.eye(5))"
   ]
  },
  {
   "cell_type": "markdown",
   "metadata": {},
   "source": [
    "### Generating random numbers using rand() for uniform distribution and randn() for normal distribution"
   ]
  },
  {
   "cell_type": "code",
   "execution_count": 10,
   "metadata": {},
   "outputs": [
    {
     "name": "stdout",
     "output_type": "stream",
     "text": [
      "One-dimensional random numbers using rand():  [0.28152599 0.83998094 0.57972486 0.04831973]\n",
      "\n",
      "Two-dimensional (3x5) random numbers using rand(): \n",
      " [[0.82896441 0.99852285 0.18791803 0.15838506 0.40944632]\n",
      " [0.91015648 0.19542634 0.30470075 0.17653138 0.13224   ]\n",
      " [0.85688252 0.86133649 0.59766449 0.90782837 0.18988753]]\n",
      "\n",
      "\n",
      "One-dimensional random numbers using randn():  [-1.15114206 -1.60667796 -1.88458213 -0.15588108]\n",
      "\n",
      "Two-dimensional random numbers using randn(): \n",
      " [[ 0.2876717  -0.73594724  0.41978647  1.18371444  2.64728746]\n",
      " [ 0.24447791  0.80901362  1.18367041 -0.13023915  0.70578477]\n",
      " [ 1.73623026  0.77078606  1.21798708 -0.67512755  0.38622065]]\n"
     ]
    }
   ],
   "source": [
    "# generating a random number using uniform distribution (probability of each number between 0 and 1 is the same)\n",
    "print(\"One-dimensional random numbers using rand(): \",np.random.rand(4))\n",
    "print(\"\\nTwo-dimensional (3x5) random numbers using rand(): \\n\",np.random.rand(3,5))\n",
    "\n",
    "# generating a random number using normal distribution (Gaussian distribution with mean=0 and variance=1)\n",
    "print(\"\\n\\nOne-dimensional random numbers using randn(): \",np.random.randn(4))\n",
    "print(\"\\nTwo-dimensional random numbers using randn(): \\n\",np.random.randn(3,5))"
   ]
  },
  {
   "cell_type": "markdown",
   "metadata": {},
   "source": [
    "### Generating Integer random numbers between low and high values using randint()"
   ]
  },
  {
   "cell_type": "code",
   "execution_count": 11,
   "metadata": {},
   "outputs": [
    {
     "name": "stdout",
     "output_type": "stream",
     "text": [
      "20 numbers generated randomly between [1,100) are:  [60 19 20 92  4 32 69 17 60 24 92 64 18 65 39 18 84 61 77 23]\n",
      "Shape: (20,)\n",
      "Size: 20\n",
      "Dimension: 1\n"
     ]
    }
   ],
   "source": [
    "a=np.random.randint(1,100,20)\n",
    "print(\"20 numbers generated randomly between [1,100) are: \",a)\n",
    "print(\"Shape:\",a.shape)# shape attribute returns the shape\n",
    "print(\"Size:\",a.size)# size attribute returns the number of elements\n",
    "print(\"Dimension:\",a.ndim)# ndim attribute returns the dimension or axes"
   ]
  },
  {
   "cell_type": "markdown",
   "metadata": {},
   "source": [
    "### Finding maximum & minimum in the array with their respective index positions using argmax() and argmin()"
   ]
  },
  {
   "cell_type": "code",
   "execution_count": 12,
   "metadata": {},
   "outputs": [
    {
     "name": "stdout",
     "output_type": "stream",
     "text": [
      "\n",
      "Returning maximum number using max():  96\n",
      "Returning minimum number using min():  2\n",
      "Returning index position of maximum number using argmax():  16\n",
      "Returning index position of minimum number using argmin():  9\n"
     ]
    }
   ],
   "source": [
    "a=np.random.randint(1,100,20)\n",
    "\n",
    "print(\"\\nReturning maximum number using max(): \",a.max())\n",
    "print(\"Returning minimum number using min(): \",a.min())\n",
    "print(\"Returning index position of maximum number using argmax(): \",a.argmax())\n",
    "print(\"Returning index position of minimum number using argmin(): \",a.argmin())"
   ]
  },
  {
   "cell_type": "markdown",
   "metadata": {},
   "source": [
    "### Sorting Array using sort() and storing their indexes using argsort()"
   ]
  },
  {
   "cell_type": "code",
   "execution_count": 13,
   "metadata": {},
   "outputs": [
    {
     "name": "stdout",
     "output_type": "stream",
     "text": [
      "Array: [76 16 77 11 81  8 71 35 74  5 49 64 70 46 91 22 92 17 55 76]\n",
      "\n",
      "Sorted Array: [ 5  8 11 16 17 22 35 46 49 55 64 70 71 74 76 76 77 81 91 92]\n",
      "Array containing sorted indexes: [ 9  5  3  1 17 15  7 13 10 18 11 12  6  8  0 19  2  4 14 16]\n"
     ]
    }
   ],
   "source": [
    "a=np.random.randint(1,100,20)\n",
    "print('Array:',a)\n",
    "\n",
    "print('\\nSorted Array:',np.sort(a))\n",
    "print('Array containing sorted indexes:',np.argsort(a))"
   ]
  },
  {
   "cell_type": "markdown",
   "metadata": {},
   "source": [
    "### Reshaping an array to create a matrix using reshape()"
   ]
  },
  {
   "cell_type": "code",
   "execution_count": 14,
   "metadata": {},
   "outputs": [
    {
     "name": "stdout",
     "output_type": "stream",
     "text": [
      "Array 'a':  [69 75 28 49 29 47 84 88 82 96 17 18 81 99 36 60 90 77 16  3]\n",
      "\n",
      "The array 'a' is re-arranged into 4x5 using reshape():\n",
      " [[69 75 28 49 29]\n",
      " [47 84 88 82 96]\n",
      " [17 18 81 99 36]\n",
      " [60 90 77 16  3]]\n",
      "\n",
      "Shape: (4, 5)\n",
      "Size: 20\n",
      "Dimension: 2\n",
      "\n",
      "\n",
      "The array 'a' is re-arranged using reshape():\n",
      " [[69 75 28 49 29 47 84 88 82 96]\n",
      " [17 18 81 99 36 60 90 77 16  3]]\n",
      "\n",
      "Shape: (2, 10)\n",
      "Size: 20\n",
      "Dimension: 2\n"
     ]
    }
   ],
   "source": [
    "a=np.random.randint(1,100,20)\n",
    "print(\"Array 'a': \",a)\n",
    "# reshape() is used to change the dimension\n",
    "b=a.reshape(4,5)\n",
    "print(\"\\nThe array 'a' is re-arranged into 4x5 using reshape():\\n\",b)\n",
    "print(\"\\nShape:\",b.shape)\n",
    "print(\"Size:\",b.size)\n",
    "print(\"Dimension:\",b.ndim)\n",
    "\n",
    "# the number of elements in the original array 'a' and the new reshaped array should be same, i.e. 2*10=20 elements\n",
    "c=a.reshape(2,-1) # -1 indicates that there could be any no. of columns, 2 represents two rows\n",
    "print(\"\\n\\nThe array 'a' is re-arranged using reshape():\\n\",c)\n",
    "print(\"\\nShape:\",c.shape)\n",
    "print(\"Size:\",c.size)\n",
    "print(\"Dimension:\",c.ndim)"
   ]
  },
  {
   "cell_type": "markdown",
   "metadata": {},
   "source": [
    "### Transposing a matrix and creating a new matrix containing ones of the same shape as an existing matrix"
   ]
  },
  {
   "cell_type": "code",
   "execution_count": 15,
   "metadata": {},
   "outputs": [
    {
     "name": "stdout",
     "output_type": "stream",
     "text": [
      "Matrix 'a' (2x5):\n",
      " [[0.94021494 0.08925194 0.62191296 0.59342276 0.90350455]\n",
      " [0.66090758 0.21850322 0.58570356 0.50834055 0.84940509]]\n",
      "\n",
      "Matrix after transposing: (5x2)\n",
      " [[0.94021494 0.66090758]\n",
      " [0.08925194 0.21850322]\n",
      " [0.62191296 0.58570356]\n",
      " [0.59342276 0.50834055]\n",
      " [0.90350455 0.84940509]]\n",
      "\n",
      "Creating a matrix containing ones having the same shape and size as array 'a' (2x5):\n",
      " [[1. 1. 1. 1. 1.]\n",
      " [1. 1. 1. 1. 1.]]\n"
     ]
    }
   ],
   "source": [
    "a=np.random.rand(2,5)\n",
    "print(\"Matrix 'a' (2x5):\\n\",a)\n",
    "\n",
    "# Transpose\n",
    "print(\"\\nMatrix after transposing: (5x2)\\n\",a.T) # T attribute is used to transpose the matrix\n",
    "\n",
    "b=np.ones_like(a)\n",
    "print(\"\\nCreating a matrix containing ones having the same shape and size as array 'a' (2x5):\\n\",b)"
   ]
  },
  {
   "cell_type": "markdown",
   "metadata": {},
   "source": [
    "### NumPy Operations"
   ]
  },
  {
   "cell_type": "code",
   "execution_count": 16,
   "metadata": {},
   "outputs": [
    {
     "name": "stdout",
     "output_type": "stream",
     "text": [
      "Original Array (a):  [72 90 77 44 52 41 93 33 18 77]\n",
      "\n",
      "Addition (a+a):  [144 180 154  88 104  82 186  66  36 154]\n",
      "Subtraction (a-10):  [62 80 67 34 42 31 83 23  8 67]\n",
      "Multiplication (a*2):  [144 180 154  88 104  82 186  66  36 154]\n",
      "Division (a/5):  [14.4 18.  15.4  8.8 10.4  8.2 18.6  6.6  3.6 15.4]\n",
      "Exponent (a**2):  [5184 8100 5929 1936 2704 1681 8649 1089  324 5929]\n"
     ]
    }
   ],
   "source": [
    "a=np.random.randint(1,100,10)\n",
    "print(\"Original Array (a): \",a)\n",
    "print(\"\\nAddition (a+a): \",a+a)\n",
    "print(\"Subtraction (a-10): \",a-10)\n",
    "print(\"Multiplication (a*2): \",a*2)\n",
    "print(\"Division (a/5): \",a/5)\n",
    "print(\"Exponent (a**2): \",a**2)"
   ]
  },
  {
   "cell_type": "markdown",
   "metadata": {},
   "source": [
    "### Rounding off numbers using ceil(), floor() and around()"
   ]
  },
  {
   "cell_type": "code",
   "execution_count": 17,
   "metadata": {},
   "outputs": [
    {
     "name": "stdout",
     "output_type": "stream",
     "text": [
      "Value of pi:  3.141592653589793\n",
      "Ceil Value of pi:  4.0\n",
      "Floor Value of pi:  3.0\n",
      "Around Value of pi:  3.1416\n"
     ]
    }
   ],
   "source": [
    "pi=np.pi\n",
    "print(\"Value of pi: \",pi)\n",
    "print(\"Ceil Value of pi: \",np.ceil(pi)) # ceil() is used to approximate the value on the higher side\n",
    "print(\"Floor Value of pi: \",np.floor(pi)) # floor() is used to approximate the value on the lower side\n",
    "print(\"Around Value of pi: \",np.around(pi,decimals=4)) # around() is used to round the result into specified decimals places."
   ]
  },
  {
   "cell_type": "markdown",
   "metadata": {},
   "source": [
    "### Numpy functions on array"
   ]
  },
  {
   "cell_type": "code",
   "execution_count": 18,
   "metadata": {},
   "outputs": [
    {
     "name": "stdout",
     "output_type": "stream",
     "text": [
      "Original Array:  [77 40 67 38 75]\n",
      "\n",
      "Maximum:  77\n",
      "Minimum:  38\n",
      "Mean:  59.4\n",
      "Standard Deviation: 17.00\n",
      "Variance:  289.04\n",
      "Sum:  297\n",
      "Median:  67.0\n",
      "\n",
      "Sinusoid:  [ 1.     0.745 -0.856  0.296 -0.388]\n",
      "Logarithm:  [4.344 3.689 4.205 3.638 4.317]\n",
      "Power:  [5929 1600 4489 1444 5625]\n",
      "Square Root: [8.775 6.325 8.185 6.164 8.66 ]\n",
      "\n",
      "Exponential: [2.75851345e+33 2.35385267e+17 1.25236317e+29 3.18559318e+16\n",
      " 3.73324200e+32]\n"
     ]
    }
   ],
   "source": [
    "a=np.random.randint(1,100,5)\n",
    "print(\"Original Array: \",a)\n",
    "\n",
    "print(\"\\nMaximum: \",np.max(a))\n",
    "print(\"Minimum: \",np.min(a))\n",
    "print(\"Mean: \",np.mean(a))\n",
    "print(\"Standard Deviation: %.2f\"%(np.std(a)))\n",
    "print(\"Variance: \",np.var(a))\n",
    "print(\"Sum: \",np.sum(a))\n",
    "print(\"Median: \",np.median(a))\n",
    "\n",
    "print(\"\\nSinusoid: \",np.around(np.sin(a),decimals=3))\n",
    "print(\"Logarithm: \",np.around(np.log(a),decimals=3))\n",
    "print(\"Power: \",np.power(a,2)) # power is used to find the power of an array\n",
    "print(\"Square Root:\",np.around(np.sqrt(a),decimals=3))# sqrt() is used to determine the square root of array\n",
    "\n",
    "print(\"\\nExponential:\",np.exp(a))# Exponential"
   ]
  },
  {
   "cell_type": "markdown",
   "metadata": {},
   "source": [
    "### Conditional Selection"
   ]
  },
  {
   "cell_type": "code",
   "execution_count": 19,
   "metadata": {},
   "outputs": [
    {
     "name": "stdout",
     "output_type": "stream",
     "text": [
      "Original Array: [31 78 68 18 89  9 70 77 34 98]\n",
      "\n",
      "Filtering Array directly: [78 68 89 70 77 98]\n",
      "\n",
      "Result of Array when condition is applied: [False  True  True False  True False  True  True False  True]\n",
      "Filtered Array: [78 68 89 70 77 98]\n",
      "Another way to extract array: [78 68 89 70 77 98]\n",
      "\n",
      "Array of indexes where condition is matched: (array([1, 2, 4, 6, 7, 9], dtype=int64),)\n",
      "Final result: [78 68 89 70 77 98]\n"
     ]
    }
   ],
   "source": [
    "a=np.random.randint(1,100,10)\n",
    "print(\"Original Array:\",a)\n",
    "\n",
    "# Method_1 (MASKING)\n",
    "print(\"\\nFiltering Array directly:\",a[a>50])\n",
    "\n",
    "# Method_2\n",
    "b=a>50\n",
    "print(\"\\nResult of Array when condition is applied:\",b)\n",
    "print(\"Filtered Array:\",a[b]) # returns true values in the array \n",
    "print(\"Another way to extract array:\",np.extract(b,a)) # extract(condition,array)\n",
    "\n",
    "# Method_3 using where(), it returns the indexes of those elements where condition is matched\n",
    "print(\"\\nArray of indexes where condition is matched:\",np.where(a>50))\n",
    "print(\"Final result:\",a[np.where(a>50)])"
   ]
  },
  {
   "cell_type": "markdown",
   "metadata": {},
   "source": [
    "###  Functions on Matrices for filtering "
   ]
  },
  {
   "cell_type": "code",
   "execution_count": 20,
   "metadata": {},
   "outputs": [
    {
     "name": "stdout",
     "output_type": "stream",
     "text": [
      "Matrix:\n",
      " [[18 11 31  2]\n",
      " [10 18 16 28]\n",
      " [41 48 16 28]\n",
      " [12  8 43 46]\n",
      " [22 48 33 14]]\n",
      "\n",
      "Total elements less than 10: 2\n",
      "Returning total elements which are less than 10: 2\n",
      "Returning an array of total elements in each row which are less than 10: [1 0 0 1 0]\n",
      "\n",
      "Returns the boolean value which verifies any element less than 10: True\n",
      "Returns the boolean value which verifies all element less than 10: False\n",
      "Returns an array of boolean values which verifies all element greater than 10: [False False  True False  True]\n"
     ]
    }
   ],
   "source": [
    "a=np.random.randint(1,50,20).reshape(5,4)\n",
    "print(\"Matrix:\\n\",a)\n",
    "\n",
    "print(\"\\nTotal elements less than 10:\",np.count_nonzero(a<10)) # count_nonzero() counts the total no. of occurences\n",
    "print(\"Returning total elements which are less than 10:\",np.sum(a<10))\n",
    "print(\"Returning an array of total elements in each row which are less than 10:\",np.sum(a<10,axis=1))\n",
    "\n",
    "print(\"\\nReturns the boolean value which verifies any element less than 10:\",np.any(a<10))\n",
    "print(\"Returns the boolean value which verifies all element less than 10:\",np.all(a<10))\n",
    "print(\"Returns an array of boolean values which verifies all element greater than 10:\",np.all(a>10,axis=1))"
   ]
  },
  {
   "cell_type": "markdown",
   "metadata": {},
   "source": [
    "### Splitting arrays using split()"
   ]
  },
  {
   "cell_type": "code",
   "execution_count": 21,
   "metadata": {},
   "outputs": [
    {
     "name": "stdout",
     "output_type": "stream",
     "text": [
      "Original Array: [36 23 41 47 13 20 39 10 37 21 44 18 37  8  3 25  3  9  6 42]\n",
      "Arrays after splitting: [36 23 41 47 13 20 39 10 37 21] [44 18 37  8  3 25  3  9  6 42]\n",
      "\n",
      "Arrays after splitting into specified indexes:\n",
      " [array([36, 23, 41, 47]), array([13, 20, 39, 10, 37]), array([21, 44, 18, 37,  8,  3]), array([25,  3,  9,  6, 42])]\n"
     ]
    }
   ],
   "source": [
    "a=np.random.randint(1,50,20)\n",
    "print(\"Original Array:\",a)\n",
    "b,c=np.split(a,2)\n",
    "print(\"Arrays after splitting:\",b,c)\n",
    "\n",
    "print(\"\\nArrays after splitting into specified indexes:\\n\",np.split(a,[4,9,15])) # splitting array on the specified index"
   ]
  },
  {
   "cell_type": "markdown",
   "metadata": {},
   "source": [
    "### Functions along particular axis"
   ]
  },
  {
   "cell_type": "code",
   "execution_count": 22,
   "metadata": {},
   "outputs": [
    {
     "name": "stdout",
     "output_type": "stream",
     "text": [
      "Matrix: (2x3)\n",
      " [[1 2 3]\n",
      " [4 5 6]]\n",
      "\n",
      "Sum of elements (axis=0): \n",
      " [5 7 9]\n",
      "Sum of elements (axis=1): \n",
      " [ 6 15]\n",
      "Sum of all elements: \n",
      " 21\n",
      "\n",
      "Maximum along each column:  [3 6]\n",
      "Minimum along each row:  [1 2 3]\n",
      "Range along each column:  [2 2]\n",
      "50 Percentile along each row:  [2.5 3.5 4.5]\n",
      "Overall 40 Percentile:  3.0\n",
      "Median along each column:  [2. 5.]\n",
      "Mean along each row:  [2.5 3.5 4.5]\n",
      "\n",
      "Appending elements along axis 0:\n",
      " [[ 1  2  3]\n",
      " [ 4  5  6]\n",
      " [ 7  8  9]\n",
      " [10 11 12]]\n",
      "Appending elements along axis 1 :\n",
      " [[ 1  2  3  7  8]\n",
      " [ 4  5  6  9 10]]\n",
      "Appending elements along axis 1 :\n",
      " [[1 2 3 7]\n",
      " [4 5 6 8]]\n"
     ]
    }
   ],
   "source": [
    "a=np.arange(1,7).reshape(2,3)\n",
    "print(\"Matrix: (2x3)\\n\",a)\n",
    "\n",
    "print(\"\\nSum of elements (axis=0): \\n\",a.sum(axis=0)) # axis=0 means columns=fixed, rows=variable\n",
    "print(\"Sum of elements (axis=1): \\n\",a.sum(axis=1)) # axis=1 is means columns=variable, rows=fixed\n",
    "print(\"Sum of all elements: \\n\",a.sum())\n",
    "\n",
    "print(\"\\nMaximum along each column: \",np.amax(a,1)) # amax(array,axis) is used to determine the max. along the specified axis\n",
    "print(\"Minimum along each row: \",np.amin(a,0)) # amin(array,axis) is used to determine the min. along the specified axis\n",
    "print(\"Range along each column: \",np.ptp(a,1)) # ptp(array,axis) is used to determine the range along the specified axis\n",
    "print(\"50 Percentile along each row: \",np.percentile(a,50,0)) # percentile(array,percentile,axis) is used to determine the percentile along the specified axis\n",
    "print(\"Overall 40 Percentile: \",np.percentile(a,40)) \n",
    "print(\"Median along each column: \",np.median(a,1)) # median(array,axis) is used to determine the median along the specified axis\n",
    "print(\"Mean along each row: \",np.mean(a,0)) # mean(array,axis) is used to determine the mean along the specified axis\n",
    "\n",
    "print(\"\\nAppending elements along axis 0:\\n\",np.append(a,[[7,8,9],[10,11,12]],axis=0))\n",
    "print(\"Appending elements along axis 1 :\\n\",np.append(a,[[7,8],[9,10]],axis=1))\n",
    "print(\"Appending elements along axis 1 :\\n\",np.append(a,[[7],[8]],axis=1))"
   ]
  },
  {
   "cell_type": "markdown",
   "metadata": {},
   "source": [
    "### Vectorize()\n",
    "\n",
    "Vectorize class converts a function into a function that can apply to all elements in an array or slice of an array.\n",
    "Basically, it is  a for loop over the elements and does not increase performance. "
   ]
  },
  {
   "cell_type": "code",
   "execution_count": 23,
   "metadata": {},
   "outputs": [
    {
     "name": "stdout",
     "output_type": "stream",
     "text": [
      "Matrix:\n",
      "[[1 2 3]\n",
      " [4 5 6]\n",
      " [7 8 9]]\n",
      "\n",
      "Result after applyting function:\n",
      "[[-99 102 -97]\n",
      " [104 -95 106]\n",
      " [-93 108 -91]]\n"
     ]
    }
   ],
   "source": [
    "matrix=np.array([[1,2,3],[4,5,6],[7,8,9]])\n",
    "print(f\"Matrix:\\n{matrix}\")\n",
    "\n",
    "add_sub_100=lambda i:i+100 if i%2==0 else i-100\n",
    "vectorized_add_100=np.vectorize(add_sub_100) # Creat vectorized function\n",
    "new_matrix=vectorized_add_100(matrix) # Apply function to all elements in matrix\n",
    "print(f\"\\nResult after applyting function:\\n{new_matrix}\")"
   ]
  },
  {
   "cell_type": "markdown",
   "metadata": {},
   "source": [
    "### Normalization"
   ]
  },
  {
   "cell_type": "code",
   "execution_count": 24,
   "metadata": {},
   "outputs": [
    {
     "name": "stdout",
     "output_type": "stream",
     "text": [
      "x: [12  5]\n",
      "Pythagoras Value using np.linalg.norm(x): 13.0\n",
      "\n",
      "y: [3 4]\n",
      "Pythagoras Value using np.linalg.norm(y): 5.0\n"
     ]
    }
   ],
   "source": [
    "# commonly used for vectors\n",
    "x=np.array([12,5])\n",
    "print(\"x:\",x)\n",
    "print(\"Pythagoras Value using np.linalg.norm(x):\",np.linalg.norm(x)) # norm() is basically the pythagoras value\n",
    "\n",
    "y=np.array([3,4])\n",
    "print(\"\\ny:\",y)\n",
    "print(\"Pythagoras Value using np.linalg.norm(y):\",np.linalg.norm(y))"
   ]
  },
  {
   "cell_type": "markdown",
   "metadata": {},
   "source": [
    "### Numpy functions on matrix"
   ]
  },
  {
   "cell_type": "code",
   "execution_count": 25,
   "metadata": {},
   "outputs": [
    {
     "name": "stdout",
     "output_type": "stream",
     "text": [
      "x is:\n",
      " [[6 2 0]\n",
      " [2 5 6]\n",
      " [3 7 9]]\n",
      "\n",
      "Determinant of x:  17.999999999999964\n",
      "Diagonal of x: [6 5 9]\n",
      "Other method to find Diagonal of x: [6 5 9]\n",
      "Sum of Diagonal elements of x: 20\n",
      "\n",
      "Creating Diagonal matrix:\n",
      " [[6 0 0]\n",
      " [0 5 0]\n",
      " [0 0 9]]\n",
      "\n",
      "Return diagonal one above the main diagonal: [2 6]\n",
      "Return diagonal one below the main diagonal: [2 7]\n",
      "\n",
      "Inverse of x:\n",
      " [[ 1.66666667e-01 -1.00000000e+00  6.66666667e-01]\n",
      " [ 1.85037171e-17  3.00000000e+00 -2.00000000e+00]\n",
      " [-5.55555556e-02 -2.00000000e+00  1.44444444e+00]]\n",
      "\n",
      "Flattening of x by row:\n",
      " [6 2 0 2 5 6 3 7 9]\n",
      "\n",
      "Flattening of x by column:\n",
      " [6 2 3 2 5 7 0 6 9]\n"
     ]
    }
   ],
   "source": [
    "x=np.array([[6,2,0],[2,5,6],[3,7,9]])\n",
    "print(\"x is:\\n\",x)\n",
    "\n",
    "print(\"\\nDeterminant of x: \",np.linalg.det(x))\n",
    "print(\"Diagonal of x:\",np.diag(x)) # np.diag(matrix) provides us with the array of diagonal elements\n",
    "print(\"Other method to find Diagonal of x:\",x.diagonal())\n",
    "print(\"Sum of Diagonal elements of x:\",np.trace(x)) # np.trace(matrix) provides us with the sum of diagonal elements\n",
    "\n",
    "# np.diag(array/list) will provide us the diagonal matrix with other elements as 0\n",
    "print(\"\\nCreating Diagonal matrix:\\n\",np.diag(np.diag(x)))\n",
    "\n",
    "#  get a diagonal off from the main diagonal by using the offset parameter\n",
    "print(f'\\nReturn diagonal one above the main diagonal: {x.diagonal(offset=1)}')\n",
    "print(f'Return diagonal one below the main diagonal: {x.diagonal(offset=-1)}')\n",
    "\n",
    "print(\"\\nInverse of x:\\n\",np.linalg.inv(x))\n",
    "\n",
    "print(\"\\nFlattening of x by row:\\n\",x.flatten()) # by default, order ='C' (meaning row-wise)\n",
    "print(\"\\nFlattening of x by column:\\n\",x.flatten(order='F'))# order ='F' (meaning column-wise)"
   ]
  },
  {
   "cell_type": "markdown",
   "metadata": {},
   "source": [
    "### Rank of a matrix \n",
    "It is the dimensions of the vector space spanned by its columns or rows. The maximum number of linearly independent rows in a matrix A is called the row rank of A, and the maximum number of linarly independent columns in A is called the column rank of A."
   ]
  },
  {
   "cell_type": "code",
   "execution_count": 26,
   "metadata": {},
   "outputs": [
    {
     "name": "stdout",
     "output_type": "stream",
     "text": [
      "Matrix1:\n",
      "[[1 2 3]\n",
      " [2 4 6]\n",
      " [3 8 9]]\n",
      "\n",
      "Rank of matrix1: 2\n",
      "\n",
      "Matrix2:\n",
      "[[ 1 -1  1 -1]\n",
      " [-1  1 -1  1]\n",
      " [ 1 -1  1 -1]\n",
      " [-1  1 -1  1]]\n",
      "\n",
      "Rank of matrix2: 1\n"
     ]
    }
   ],
   "source": [
    "matrix1=np.array([[1,2,3],[2,4,6],[3,8,9]])\n",
    "print(f'Matrix1:\\n{matrix1}')\n",
    "print(f'\\nRank of matrix1: {np.linalg.matrix_rank(matrix1)}') # Return matrix_rank\n",
    "\n",
    "matrix2=np.array([[1,-1,1,-1],[-1,1,-1,1],[1,-1,1,-1],[-1,1,-1,1]])\n",
    "print(f'\\nMatrix2:\\n{matrix2}')\n",
    "print(f'\\nRank of matrix2: {np.linalg.matrix_rank(matrix2)}') # Return matrix_rank"
   ]
  },
  {
   "cell_type": "markdown",
   "metadata": {},
   "source": [
    "### Splitting Matrices using vsplit() and hsplit()"
   ]
  },
  {
   "cell_type": "code",
   "execution_count": 27,
   "metadata": {},
   "outputs": [
    {
     "name": "stdout",
     "output_type": "stream",
     "text": [
      "Original Matrix:\n",
      " [[20  4  8 49 41 36 19  6 40 43 45  4]\n",
      " [14 14  9  5  2 19  8  6 14 19 36 49]]\n",
      "\n",
      "Matrix after splitting horizontally into two parts:\n",
      " [[20  4  8 49 41 36]\n",
      " [14 14  9  5  2 19]] \n",
      "\n",
      " [[19  6 40 43 45  4]\n",
      " [ 8  6 14 19 36 49]]\n",
      "\n",
      "Transposed Matrix:\n",
      " [[20 14]\n",
      " [ 4 14]\n",
      " [ 8  9]\n",
      " [49  5]\n",
      " [41  2]\n",
      " [36 19]\n",
      " [19  8]\n",
      " [ 6  6]\n",
      " [40 14]\n",
      " [43 19]\n",
      " [45 36]\n",
      " [ 4 49]]\n",
      "\n",
      "Matrix after splitting vertically into three parts:\n",
      " [[20 14]\n",
      " [ 4 14]\n",
      " [ 8  9]\n",
      " [49  5]] \n",
      "\n",
      " [[41  2]\n",
      " [36 19]\n",
      " [19  8]\n",
      " [ 6  6]] \n",
      "\n",
      " [[40 14]\n",
      " [43 19]\n",
      " [45 36]\n",
      " [ 4 49]]\n"
     ]
    }
   ],
   "source": [
    "x=np.random.randint(1,50,24).reshape(2,12)\n",
    "print(\"Original Matrix:\\n\",x)\n",
    "\n",
    "y1,y2=np.hsplit(x,2)\n",
    "print(\"\\nMatrix after splitting horizontally into two parts:\\n\",y1,'\\n\\n',y2)\n",
    "\n",
    "print(\"\\nTransposed Matrix:\\n\",x.T)\n",
    "z1,z2,z3=np.vsplit(x.T,3)\n",
    "print(\"\\nMatrix after splitting vertically into three parts:\\n\",z1,'\\n\\n',z2,'\\n\\n',z3)"
   ]
  },
  {
   "cell_type": "markdown",
   "metadata": {},
   "source": [
    "### Other Operations on Matrices"
   ]
  },
  {
   "cell_type": "code",
   "execution_count": 28,
   "metadata": {},
   "outputs": [
    {
     "name": "stdout",
     "output_type": "stream",
     "text": [
      "x is:\n",
      " [[1 3]\n",
      " [4 2]]\n",
      "y is:\n",
      " [[2 6]\n",
      " [2 7]]\n",
      "\n",
      "x+y is:\n",
      " [[3 9]\n",
      " [6 9]]\n",
      "x-y is:\n",
      " [[-1 -3]\n",
      " [ 2 -5]]\n",
      "x*y is:\n",
      " [[ 2 18]\n",
      " [ 8 14]]\n",
      "x.y is:\n",
      " [[ 8 27]\n",
      " [12 38]]\n",
      "Alternative way of matrix multiplication of two matrix:\n",
      " [[ 8 27]\n",
      " [12 38]]\n",
      "\n",
      "Dot Product of two vectors:  42\n",
      "Inner product is similar to the dot product at each position of the matrix:\n",
      " [[20 23]\n",
      " [20 22]]\n",
      "Outer product:\n",
      " [[ 2  6  2  7]\n",
      " [ 6 18  6 21]\n",
      " [ 8 24  8 28]\n",
      " [ 4 12  4 14]]\n",
      "\n",
      "Concatenating x & y along axis 0:\n",
      " [[1 3]\n",
      " [4 2]\n",
      " [2 6]\n",
      " [2 7]]\n",
      "Concatenating x & y along axis 1:\n",
      " [[1 3 2 6]\n",
      " [4 2 2 7]]\n",
      "Horizontal Stacking of x & y:\n",
      " [[1 3 2 6]\n",
      " [4 2 2 7]]\n",
      "Vertical Stacking of x & y:\n",
      " [[1 3]\n",
      " [4 2]\n",
      " [2 6]\n",
      " [2 7]]\n",
      "Sort along each row:\n",
      " [[1 2]\n",
      " [2 3]\n",
      " [2 6]\n",
      " [4 7]]\n"
     ]
    }
   ],
   "source": [
    "x=np.array([[1,3],[4,2]])\n",
    "y=np.array([[2,6],[2,7]])\n",
    "print(\"x is:\\n\",x)\n",
    "print(\"y is:\\n\",y)\n",
    "\n",
    "# Element-wise operations\n",
    "print(\"\\nx+y is:\\n\",x+y)\n",
    "print(\"x-y is:\\n\",x-y)\n",
    "print(\"x*y is:\\n\",x*y) # element-wise product\n",
    "print(\"x.y is:\\n\",np.dot(x,y)) # matrix multiplication using dot()\n",
    "print(\"Alternative way of matrix multiplication of two matrix:\\n\",x@y)\n",
    "\n",
    "print(\"\\nDot Product of two vectors: \",np.vdot(x,y)) # vdot() is used for dot product of vectors, adding individual elements of x*y\n",
    "print(\"Inner product is similar to the dot product at each position of the matrix:\\n\",np.inner(x,y)) # inner() is same as vdot(), row to row multiplication\n",
    "print(\"Outer product:\\n\",np.outer(x,y)) # outer product is the mapping of y on x, size of the result is (No. of elements in x * No. of elements in y)\n",
    "\n",
    "print(\"\\nConcatenating x & y along axis 0:\\n\",np.concatenate((x,y))) # concatenating along axis=0 (default)\n",
    "print(\"Concatenating x & y along axis 1:\\n\",np.concatenate((x,y),axis=1)) # concatenating along axis=1\n",
    "print(\"Horizontal Stacking of x & y:\\n\",np.hstack((x,y)))\n",
    "print(\"Vertical Stacking of x & y:\\n\",np.vstack((x,y)))\n",
    "print(\"Sort along each row:\\n\",np.sort(np.vstack((x,y)),0)) # sort(array,axis) is used to sort elements along the specified axis"
   ]
  },
  {
   "cell_type": "markdown",
   "metadata": {},
   "source": [
    "### Solving Linear System (Ax=b) -> (x=(inverse of A).b)\n"
   ]
  },
  {
   "cell_type": "code",
   "execution_count": 29,
   "metadata": {},
   "outputs": [
    {
     "name": "stdout",
     "output_type": "stream",
     "text": [
      "a is:\n",
      " [[11.  2.]\n",
      " [ 1.  0.]]\n",
      "b is:\n",
      " [6. 6.]\n",
      "\n",
      "a_inverse is:\n",
      " [[ 0.   1. ]\n",
      " [ 0.5 -5.5]]\n",
      "\n",
      "Result is:  [  6. -30.]\n",
      "\n",
      "Result using solve() is:  [  6. -30.]\n"
     ]
    }
   ],
   "source": [
    "A=np.floor(np.random.random((2,2))*20)\n",
    "print(\"a is:\\n\",A)\n",
    "b=np.ceil(np.random.random(2)*10)\n",
    "print(\"b is:\\n\",b)\n",
    "\n",
    "# Method 1\n",
    "a_inv=np.linalg.inv(A)\n",
    "print(\"\\na_inverse is:\\n\",a_inv)\n",
    "\n",
    "x=np.dot(a_inv,b)\n",
    "print(\"\\nResult is: \",x)\n",
    "\n",
    "# Method 2\n",
    "x=np.linalg.solve(A,b) # solve() is used to find the solution of the linear system\n",
    "print(\"\\nResult using solve() is: \",x)"
   ]
  },
  {
   "cell_type": "markdown",
   "metadata": {},
   "source": [
    "### Example:  a.b=|a||b|cos(theta)"
   ]
  },
  {
   "cell_type": "code",
   "execution_count": 30,
   "metadata": {},
   "outputs": [
    {
     "name": "stdout",
     "output_type": "stream",
     "text": [
      "Matrix a:\n",
      " [[-14  -9 -14]\n",
      " [-15 -15 -12]\n",
      " [-15  -2 -12]]\n",
      "\n",
      "Matrix b:\n",
      " [[  5. -10.  -2.]\n",
      " [  8.  -0.  -7.]\n",
      " [  1. -20.  -8.]]\n",
      "\n",
      "Dot Product of a and b:  133.0\n",
      "Absolute Value of a is 37.94733192202055 and b is 26.589471600616662: \n",
      "Angle Theta is:  83.0  degrees\n"
     ]
    }
   ],
   "source": [
    "# Generating two matrices 'a' and 'b'\n",
    "a=np.around((np.random.randint(-10,10,9)-5))\n",
    "print(\"Matrix a:\\n\",a.reshape(3,3))\n",
    "b=np.ceil(np.random.randn(3,3)*10)\n",
    "print(\"\\nMatrix b:\\n\",b)\n",
    "\n",
    "dp=np.vdot(a,b) # dot product\n",
    "print(\"\\nDot Product of a and b: \",dp)\n",
    "x=np.linalg.norm(a)\n",
    "y=np.linalg.norm(b)\n",
    "print(\"Absolute Value of a is {} and b is {}: \".format(x,y))\n",
    "costheta=dp/(x*y)\n",
    "angle=np.rad2deg(np.arccos(costheta))\n",
    "print(\"Angle Theta is: \",np.ceil(angle),\" degrees\")"
   ]
  },
  {
   "cell_type": "markdown",
   "metadata": {},
   "source": [
    "### Arrays with structured data"
   ]
  },
  {
   "cell_type": "code",
   "execution_count": 31,
   "metadata": {},
   "outputs": [
    {
     "name": "stdout",
     "output_type": "stream",
     "text": [
      "Array: [('', 0, 0., 0) ('', 0, 0., 0) ('', 0, 0., 0) ('', 0, 0., 0)]\n",
      "\n",
      "Array after inserting data:\n",
      " [('Store_A', 31, 50.4 , 36) ('Store_B', 32, 38.3 , 25)\n",
      " ('Store_C', 33, 22.  , 72) ('Store_D', 34, 78.53, 21)]\n"
     ]
    }
   ],
   "source": [
    "# initializing array\n",
    "data=np.zeros(4,dtype={'names':('Name','Id','Price','Quantity'),'formats':('U10','i4','f8','i8')})\n",
    "print('Array:',data)\n",
    "\n",
    "# inserting values in array\n",
    "data['Name']=['Store_A','Store_B','Store_C','Store_D']\n",
    "data['Id']=[31,32,33,34]\n",
    "data['Price']=[50.4,38.3,22,78.53]\n",
    "data['Quantity']=[36,25,72,21]\n",
    "\n",
    "print(\"\\nArray after inserting data:\\n\",data)"
   ]
  },
  {
   "cell_type": "markdown",
   "metadata": {},
   "source": [
    "### I/O wth numpy"
   ]
  },
  {
   "cell_type": "code",
   "execution_count": 32,
   "metadata": {},
   "outputs": [
    {
     "name": "stdout",
     "output_type": "stream",
     "text": [
      "Data:  [ 1  2  3  4  5  6  7  8  9 10]\n",
      "Data as text:  [ 1.  2.  3.  4.  5.  6.  7.  8.  9. 10.]\n"
     ]
    }
   ],
   "source": [
    "a=np.arange(1,11)\n",
    "np.save(\"Out_1\",a) # creating a file 'Out_1' for storing data using save()\n",
    "b=np.load(\"Out_1.npy\") # loading the file 'Out_1' containing stored data using load()\n",
    "print(\"Data: \",b)\n",
    "np.savetxt(\"Out_2.txt\",b) # storing data in simple text file\n",
    "c=np.loadtxt(\"Out_2.txt\") # retrieving data from a simple text file\n",
    "print(\"Data as text: \",c)"
   ]
  }
 ],
 "metadata": {
  "kernelspec": {
   "display_name": "Python 3",
   "language": "python",
   "name": "python3"
  },
  "language_info": {
   "codemirror_mode": {
    "name": "ipython",
    "version": 3
   },
   "file_extension": ".py",
   "mimetype": "text/x-python",
   "name": "python",
   "nbconvert_exporter": "python",
   "pygments_lexer": "ipython3",
   "version": "3.7.3"
  }
 },
 "nbformat": 4,
 "nbformat_minor": 1
}
